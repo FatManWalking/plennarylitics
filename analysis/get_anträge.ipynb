{
 "cells": [
  {
   "cell_type": "code",
   "execution_count": 32,
   "metadata": {},
   "outputs": [],
   "source": [
    "import xml.etree.ElementTree as ET\n",
    "import re"
   ]
  },
  {
   "cell_type": "code",
   "execution_count": 33,
   "metadata": {},
   "outputs": [
    {
     "name": "stdout",
     "output_type": "stream",
     "text": [
      "WAHLPERIODE {}\n",
      "DOKUMENTART {}\n",
      "NR {}\n",
      "DATUM {}\n",
      "TITEL {}\n",
      "TEXT {}\n"
     ]
    }
   ],
   "source": [
    "tree = ET.parse('../Data/19021.xml')\n",
    "root = tree.getroot()\n",
    "for child in root:\n",
    "    print(child.tag, child.attrib)"
   ]
  },
  {
   "cell_type": "code",
   "execution_count": 34,
   "metadata": {},
   "outputs": [],
   "source": [
    "for content in root.iter('TEXT'):\n",
    "    meeting_content = content.text\n",
    "\n",
    "\n",
    "oneline = \" \".join(line.strip() for line in meeting_content.splitlines())\n"
   ]
  },
  {
   "cell_type": "code",
   "execution_count": 35,
   "metadata": {},
   "outputs": [
    {
     "name": "stdout",
     "output_type": "stream",
     "text": [
      "['Antrag der Abgeordneten Doris Achelwilm, Cornelia Möhring, Dr . Petra Sitte, weiterer Abgeordneter und der Fraktion DIE LINKE: Lohndiskriminierung von Frauen been- den – Equal Pay durchsetzen Drucksache 19/1005  .  .  .  .  .  .  .  .  .  .  .  .  .  .  .  .  .  .  .  .  1767 B in Verbindung mit Zusatztagesordnungspunkt 4: Antrag der Abgeordneten Ulle Schauws, Beate Mü', 'Antrag der Abgeordneten Dr . Gottfried Cu- rio, Albrecht Glaser, Armin-Paulus Hampel, weiterer Abgeordneter und der Fraktion der AfD: Umfassende Grenzkontrollen sofort ein- führen – Zurückweisung bei unberechtigtem Grenzübertritt (Tagesordnungspunkt 19)  .  .  .  .  .  .  .  .  .  .  .  .  .  .  .  .  1790 C Anlage 4 Erklärungen nach § 31 GO zu der namentli- chen Absti', 'Antrag der Abgeordneten Dr . Gottfried Curio, Albrecht Glaser, Armin-Paulus Hampel, weiterer Abge- ordneter und der Fraktion der AfD: Umfassen- de Grenzkontrollen sofort einführen – Zurück- weisung bei unberechtigtem Grenzübertritt (Tagesordnungspunkt 19)  .  .  .  .  .  .  .  .  .  .  .  .  .  .  .  .  1790 D Veronika Bellmann (CDU/CSU)  .  .  .  .  .  .  .  .  .  .  ', 'Antrag der Abgeordneten Dr . Gottfried Curio, Albrecht Glaser, Armin-Paulus Hampel, weiterer Abgeordneter und der Fraktion der AfD Umfassende Grenzkontrollen sofort einfüh- ren – Zurückweisung bei unberechtigtem Grenzübertritt Drucksachen 19/41, 19/862 Wir werden über die Beschlussempfehlung später na- mentlich abstimmen . Nach einer interfraktionellen Vereinbarung sin', 'Antrag der Abgeordneten Dr. Gottfried  Curio, Albrecht Glaser, Armin-Paulus Hampel, weiterer Abgeordneter und der Fraktion der AfD Umfassende Grenzkontrollen sofort einführen – Zu- rückweisung bei unberechtigtem Grenzübertritt (Tagesordnungspunkt 19) Der Antrag geht in die richtige Richtung und zeigt not- wendige Schritte auf . Aufgrund der gerade erst neu eingesetzten', 'Antrag der Abgeordneten Dr. Gottfried Curio, Albrecht Glaser, Armin-Paulus Hampel, weiterer Abgeordneter und der Fraktion der AfD Umfassende Grenzkontrollen sofort einführen – Zu- rückweisung bei unberechtigtem Grenzübertritt (Tagesordnungspunkt 19) Veronika Bellmann (CDU/CSU): Grundsätzlich ist festzuhalten, dass der vorliegende Antrag weder dem Koalitionsvertrag von ']\n"
     ]
    }
   ],
   "source": [
    "test = re.findall( 'Antrag der Abgeordneten............................................................................................................................................................................................................................................................................................................................................................', oneline)\n",
    "print(test)"
   ]
  },
  {
   "cell_type": "code",
   "execution_count": 36,
   "metadata": {},
   "outputs": [],
   "source": [
    "cleanedup = []\n",
    "for element in test:\n",
    "    element = element.split('Drucksache')\n",
    "    cleanedup.append(element[0])"
   ]
  },
  {
   "cell_type": "code",
   "execution_count": 37,
   "metadata": {},
   "outputs": [
    {
     "name": "stdout",
     "output_type": "stream",
     "text": [
      "['Antrag der Abgeordneten Doris Achelwilm, Cornelia Möhring, Dr . Petra Sitte, weiterer Abgeordneter und der Fraktion DIE LINKE: Lohndiskriminierung von Frauen been- den – Equal Pay durchsetzen ', 'Antrag der Abgeordneten Dr . Gottfried Cu- rio, Albrecht Glaser, Armin-Paulus Hampel, weiterer Abgeordneter und der Fraktion der AfD: Umfassende Grenzkontrollen sofort ein- führen – Zurückweisung bei unberechtigtem Grenzübertritt (Tagesordnungspunkt 19)  .  .  .  .  .  .  .  .  .  .  .  .  .  .  .  .  1790 C Anlage 4 Erklärungen nach § 31 GO zu der namentli- chen Absti', 'Antrag der Abgeordneten Dr . Gottfried Curio, Albrecht Glaser, Armin-Paulus Hampel, weiterer Abge- ordneter und der Fraktion der AfD: Umfassen- de Grenzkontrollen sofort einführen – Zurück- weisung bei unberechtigtem Grenzübertritt (Tagesordnungspunkt 19)  .  .  .  .  .  .  .  .  .  .  .  .  .  .  .  .  1790 D Veronika Bellmann (CDU/CSU)  .  .  .  .  .  .  .  .  .  .  ', 'Antrag der Abgeordneten Dr . Gottfried Curio, Albrecht Glaser, Armin-Paulus Hampel, weiterer Abgeordneter und der Fraktion der AfD Umfassende Grenzkontrollen sofort einfüh- ren – Zurückweisung bei unberechtigtem Grenzübertritt ', 'Antrag der Abgeordneten Dr. Gottfried  Curio, Albrecht Glaser, Armin-Paulus Hampel, weiterer Abgeordneter und der Fraktion der AfD Umfassende Grenzkontrollen sofort einführen – Zu- rückweisung bei unberechtigtem Grenzübertritt (Tagesordnungspunkt 19) Der Antrag geht in die richtige Richtung und zeigt not- wendige Schritte auf . Aufgrund der gerade erst neu eingesetzten', 'Antrag der Abgeordneten Dr. Gottfried Curio, Albrecht Glaser, Armin-Paulus Hampel, weiterer Abgeordneter und der Fraktion der AfD Umfassende Grenzkontrollen sofort einführen – Zu- rückweisung bei unberechtigtem Grenzübertritt (Tagesordnungspunkt 19) Veronika Bellmann (CDU/CSU): Grundsätzlich ist festzuhalten, dass der vorliegende Antrag weder dem Koalitionsvertrag von ']\n"
     ]
    }
   ],
   "source": [
    "print(cleanedup)"
   ]
  }
 ],
 "metadata": {
  "kernelspec": {
   "display_name": "Python 3.10.4 64-bit",
   "language": "python",
   "name": "python3"
  },
  "language_info": {
   "codemirror_mode": {
    "name": "ipython",
    "version": 3
   },
   "file_extension": ".py",
   "mimetype": "text/x-python",
   "name": "python",
   "nbconvert_exporter": "python",
   "pygments_lexer": "ipython3",
   "version": "3.10.4"
  },
  "orig_nbformat": 4,
  "vscode": {
   "interpreter": {
    "hash": "e2acad2d318e78a00a44646627195d999ce444529836353b37cf256bc45b04b9"
   }
  }
 },
 "nbformat": 4,
 "nbformat_minor": 2
}
