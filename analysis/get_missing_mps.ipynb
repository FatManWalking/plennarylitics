{
 "cells": [
  {
   "cell_type": "code",
   "execution_count": 48,
   "metadata": {},
   "outputs": [],
   "source": [
    "import spacy\n",
    "from spacy import displacy\n",
    "import xml.etree.ElementTree as ET\n",
    "import os\n",
    "import numpy as np\n",
    "import pandas as pd"
   ]
  },
  {
   "cell_type": "code",
   "execution_count": 76,
   "metadata": {},
   "outputs": [],
   "source": [
    "\n",
    "missing_mps_DIE_LINKE = {}\n",
    "missing_mps_CDUCSU = {}\n",
    "missing_mps_FDP = {}\n",
    "missing_mps_SPD = {}\n",
    "missing_mps_GRUENE = {}\n",
    "missing_mps_FRAKTIONSLOS = {}\n",
    "missing_mps_AFD = {}\n",
    "\n"
   ]
  },
  {
   "cell_type": "code",
   "execution_count": 79,
   "metadata": {},
   "outputs": [
    {
     "name": "stdout",
     "output_type": "stream",
     "text": [
      "Grüne Missing: {'19001': [], '19002': [], '19003': [], '19004': [], '19005': [], '19006': [], '19007': [], '19008': [], '19009': [], '19010': [], '19011': [], '19012': [], '19013': [], '19014': [], '19015': [], '19016': [], '19017': [], '19018': [], '19019': [], '19020': [], '19021': [], '19022': [], '19023': [], '19024': [], '19025': [], '19026': [], '19027': [], '19028': [], '19029': [], '19030': [], '19031': [], '19032': [], '19033': [], '19034': [], '19035': [], '19036': [], '19037': [], '19038': [], '19039': [], '19040': [], '19041': [], '19042': [], '19043': [], '19044': [], '19045': [], '19046': [], '19047': [], '19048': [], '19049': [], '19050': [], '19051': [], '19052': [], '19053': [], '19054': [], '19055': [], '19056': [], '19057': [], '19058': [], '19059': [], '19060': [], '19061': [], '19062': [], '19063': [], '19064': [], '19065': [], '19066': [], '19067': [], '19068': [], '19069': [], '19070': [], '19071': [], '19072': [], '19073': [], '19074': [], '19075': [], '19076': [], '19077': [], '19078': [], '19079': [], '19080': [], '19081': [], '19082': [], '19083': [], '19084': [], '19085': [], '19086': [], '19087': [], '19088': [], '19089': [], '19090': [], '19091': [], '19092': [], '19093': [], '19094': [], '19095': [], '19096': [], '19097': [], '19098': [], '19099': [], '19100': [], '19101': [], '19102': [], '19103': [], '19104': [], '19105': [], '19106': [], '19107': [], '19108': [], '19109': [], '19110': [], '19111': [], '19112': [], '19113': [], '19114': [], '19115': [], '19116': [], '19117': [], '19118': [], '19119': [], '19120': [], '19121': [], '19122': [], '19123': [], '19124': [], '19125': [], '19126': [], '19127': [], '19128': [], '19129': [], '19130': [], '19131': [], '19132': [], '19133': [], '19134': [], '19135': [], '19136': [], '19137': [], '19138': [], '19139': [], '19140': [], '19141': [], '19142': [], '19143': [], '19144': [], '19145': [], '19146': [], '19147': [], '19148': [], '19149': [], '19150': [], '19151': [], '19152': [], '19153': [], '19154': [], '19155': [], '19156': [], '19157': [], '19158': [], '19159': [], '19160': [], '19161': [], '19162': [], '19163': [], '19164': [], '19165': [], '19166': [], '19167': [], '19168': [], '19169': ['Dörner, Katja ', 'Trittin, Jürgen '], '19170': [], '19171': [], '19172': [], '19173': [], '19174': [], '19175': [], '19176': [], '19177': [], '19178': [], '19179': [], '19180': [], '19181': [], '19182': [], '19183': [], '19184': [], '19185': [], '19186': [], '19187': [], '19188': [], '19189': [], '19190': [], '19191': [], '19192': [], '19193': [], '19194': [], '19195': [], '19196': [], '19197': [], '19198': [], '19199': [], '19200': [], '19201': [], '19202': [], '19203': [], '19204': [], '19205': [], '19206': [], '19207': [], '19208': [], '19209': [], '19210': [], '19211': [], '19212': [], '19213': [], '19214': [], '19215': [], '19216': [], '19217': [], '19218': [], '19219': [], '19220': [], '19221': [], '19222': [], '19223': [], '19224': [], '19225': [], '19226': [], '19227': ['(Beifall beim ', '(Beifall beim ', '(Beifall beim ', '(Beifall beim ', '(Beifall beim ', '(Beifall beim ', '[', '(Beifall beim ', '(Beifall beim ', '(Beifall beim ', '[', '(Beifall beim ', '(Beifall beim ', '(Beifall beim ', '(Beifall beim ', '(Beifall beim ', '[', '[', '[', '(Beifall beim ', '(Beifall beim ', '(Beifall beim ', '(Beifall beim ', '(Beifall beim ', 'Schmeink [', '(Beifall beim ', 'Renate Künast (', '(Beifall beim ', '(Beifall beim ', '(Beifall beim ', '(Beifall beim ', '(Beifall beim ', 'Renate Künast (', '(Beifall beim ', 'und dem ', '(Beifall beim ', '(Beifall beim ', '(Beifall beim ', '', '(Beifall beim ', '(Beifall beim ', '(Beifall beim ', '(Beifall beim ', '(Beifall beim ', '(Beifall beim ', '(Beifall beim ', '(Beifall beim ', '(Beifall beim ', 'Katharina Dröge (', '(Beifall beim ', '(Beifall beim ', '(Beifall beim ', '(Beifall beim ', 'Fraktion ', '(Zuruf vom ', '[', '[', '(Zuruf vom ', '[', '(Beifall beim ', '(Beifall beim ', '(Beifall beim ', '(Beifall beim ', '(Beifall beim ', '(Beifall beim ', '(Beifall beim ', 'Schulz-Asche [', '(Beifall beim ', 'Erhard Grundl (', '(Beifall beim ', '(Beifall beim ', '(Beifall beim ', '(Beifall beim ', '(Beifall beim ', 'Erhard Grundl (', '', 'Kekeritz [', '(Beifall beim ', 'Jürgen Trittin (', '(Beifall beim ', '(Beifall beim ', '(Beifall beim ', '(Beifall beim ', '(Beifall beim ', '(Beifall beim ', '(Beifall beim ', '(Beifall beim ', '(Beifall beim ', 'Jürgen Trittin (', 'Jürgen Trittin (', '(Beifall beim ', '', 'Kuhn [', '(Beifall beim ', '(Beifall beim ', '(Beifall beim ', 'Daniela Wagner (', '(Beifall beim ', '(Beifall beim ', '(Beifall beim ', 'Daniela Wagner (', '(Beifall beim ', '', '(Beifall beim ', 'Matthias Gastel (', '(Beifall beim ', '(Beifall beim ', '(Beifall beim ', '(Beifall beim ', '(Lisa Badum [', '(Beifall beim ', 'Dr. Julia Verlinden (', '(Beifall beim ', '(Beifall beim ', '(Beifall beim ', '(Beifall beim ', '(Beifall beim ', '(Beifall beim ', 'Dr. Julia Verlinden (', '(Beifall beim '], '19228': [], '19229': [], '19230': [], '19231': [], '19232': [], '19233': [], '19234': [], '19235': [], '19236': [], '19237': [], '19238': [], '19239': []}\n"
     ]
    }
   ],
   "source": [
    "directory = os.fsencode(\"../Data/\")\n",
    "\n",
    "#Iterate over files in folder\n",
    "\n",
    "for file in os.listdir(directory):\n",
    "\n",
    "    #create helper arrays\n",
    "\n",
    "    DIELINKE = []\n",
    "    CDUCSU= []\n",
    "    FDP= []\n",
    "    SPD= []\n",
    "    GRUENE= []\n",
    "    FRAKTIONSLOS= []\n",
    "    AFD= []\n",
    "\n",
    "    filename = os.fsdecode(file)\n",
    "    tree = ET.parse(\"../Data/\"+filename)\n",
    "    root = tree.getroot()\n",
    "\n",
    "    #Get content in xml files\n",
    "\n",
    "    for content in root.iter('TEXT'):\n",
    "        meeting_content = content.text\n",
    "\n",
    "    #This split is done to seperate the Anlagen from the rest of the text, it is the only consistently working string we know of\n",
    "\n",
    "    split = meeting_content.split(\"Stenografischen Bericht\")\n",
    "\n",
    "    #This split is done to cut the rest of the file from the missing MPs part of the anlagen. If there is no Anlage 2, we have found that splitting on \"satzweiss.com\" yields good results too\n",
    "\n",
    "    split = split[1].split(\"Anlage 2\")\n",
    "    split = split[0].split(\"Satzweiss.com\")\n",
    "    \n",
    "    #split into seperate rows to get MP names\n",
    "\n",
    "    missing_mps = split[0].split(\"\\n\")\n",
    "\n",
    "    #assign mps to parties\n",
    "\n",
    "    for element in missing_mps:\n",
    "\n",
    "        if \"DIE LINKE\" in element:\n",
    "            element = element.split(\"DIE LINKE\")\n",
    "            DIELINKE.append(element[0])\n",
    "            #np.append(missing_mps_DIE_LINKE, [[filename],[element[0]]])\n",
    "            \n",
    "        if \"CDU/CSU\" in element:\n",
    "            element = element.split(\"CDU/CSU\")\n",
    "            CDUCSU.append(element[0])\n",
    "\n",
    "        if \"FDP\" in element:\n",
    "            element = element.split(\"FDP\")\n",
    "            FDP.append(element[0])\n",
    "\n",
    "        if \"SPD\" in element:\n",
    "            element = element.split(\"SPD\")\n",
    "            SPD.append(element[0])\n",
    "        \n",
    "        if \"BÜNDNIS 90/\" in element:\n",
    "            element = element.split(\"BÜNDNIS 90/\")\n",
    "            GRUENE.append(element[0])\n",
    "        \n",
    "        if \"fraktionslos\" in element:\n",
    "            element = element.split(\"fraktionslos\")\n",
    "            FRAKTIONSLOS.append(element[0])\n",
    "\n",
    "        if \"AfD\" in element:\n",
    "            element = element.split(\"AfD\")\n",
    "            AFD.append(element[0])\n",
    "\n",
    "    \n",
    "    #Here the complete names of missing mps per meeting are added to a dictionary with the meeting id in format \"19XXX\" as a key\n",
    "\n",
    "    filename = filename[:-4]\n",
    "    missing_mps_DIE_LINKE.update( {filename  : DIELINKE} )\n",
    "    missing_mps_CDUCSU.update( {filename  : CDUCSU} )\n",
    "    missing_mps_FDP.update( {filename  : FDP} )\n",
    "    missing_mps_SPD.update( {filename  : SPD} )\n",
    "    missing_mps_GRUENE.update( {filename  : GRUENE} )\n",
    "    missing_mps_FRAKTIONSLOS.update( {filename  : FRAKTIONSLOS} )\n",
    "    missing_mps_AFD.update( {filename  : AFD} )\n",
    "\n",
    "#print(\"Linke Missing: \" + str(missing_mps_DIE_LINKE))\n",
    "print(\"Grüne Missing: \" + str(missing_mps_GRUENE))\n",
    "\n",
    "\n"
   ]
  },
  {
   "cell_type": "code",
   "execution_count": null,
   "metadata": {},
   "outputs": [],
   "source": []
  }
 ],
 "metadata": {
  "kernelspec": {
   "display_name": "Python 3.10.4 ('AML_bidde')",
   "language": "python",
   "name": "python3"
  },
  "language_info": {
   "codemirror_mode": {
    "name": "ipython",
    "version": 3
   },
   "file_extension": ".py",
   "mimetype": "text/x-python",
   "name": "python",
   "nbconvert_exporter": "python",
   "pygments_lexer": "ipython3",
   "version": "3.10.4"
  },
  "orig_nbformat": 4,
  "vscode": {
   "interpreter": {
    "hash": "6b52411e3314414b702c5686635835232cca674170cc7878c1cad8ba3f5f04eb"
   }
  }
 },
 "nbformat": 4,
 "nbformat_minor": 2
}
