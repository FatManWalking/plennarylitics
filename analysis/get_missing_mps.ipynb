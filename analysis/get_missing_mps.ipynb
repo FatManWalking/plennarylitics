{
 "cells": [
  {
   "cell_type": "code",
   "execution_count": 48,
   "metadata": {},
   "outputs": [],
   "source": [
    "import spacy\n",
    "from spacy import displacy\n",
    "import xml.etree.ElementTree as ET\n",
    "import os\n"
   ]
  },
  {
   "cell_type": "code",
   "execution_count": 92,
   "metadata": {},
   "outputs": [],
   "source": [
    "\n",
    "missing_mps_DIE_LINKE = {}\n",
    "missing_mps_CDUCSU = {}\n",
    "missing_mps_FDP = {}\n",
    "missing_mps_SPD = {}\n",
    "missing_mps_GRUENE = {}\n",
    "missing_mps_FRAKTIONSLOS = {}\n",
    "missing_mps_AFD = {}\n",
    "\n"
   ]
  },
  {
   "cell_type": "code",
   "execution_count": 93,
   "metadata": {},
   "outputs": [
    {
     "name": "stdout",
     "output_type": "stream",
     "text": [
      "Grüne Missing: {'19001': [], '19002': [], '19003': [], '19004': ['Nouripour, Omid '], '19005': ['Nouripour, Omid '], '19006': ['Künast, Renate ', 'Lehmann, Sven '], '19007': [], '19008': ['', 'Künast, Renate ', 'Lemke, Steffi ', 'Trittin, Jürgen '], '19009': ['Gastel, Matthias ', 'Janecek, Dieter ', 'Krischer, Oliver ', 'Künast, Renate ', 'Lazar, Monika ', 'Lehmann, Sven ', 'Mihalic, Irene '], '19010': ['Brugger, Agnieszka ', 'Künast, Renate ', 'Nestle, Ingrid ', 'Schauws, Ulle '], '19011': ['Künast, Renate ', 'Nestle, Ingrid ', 'Schauws, Ulle '], '19012': ['Göring-Eckardt, Katrin ', 'Kindler, Sven-Christian ', 'Künast, Renate ', 'Nestle, Ingrid ', 'Rüffer, Corinna '], '19013': ['Kindler, Sven-Christian ', ''], '19014': ['Kindler, Sven-Christian ', '', ''], '19015': ['Ebner, Harald ', 'Grundl, Erhard ', 'Kindler, Sven-Christian ', 'Kotting-Uhl, Sylvia ', ''], '19016': ['Kindler, Sven-Christian ', 'Klein-Schmeink, Maria ', '', 'Nestle, Ingrid ', 'Özdemir, Cem ', 'Rüffer, Corinna ', 'Trittin, Jürgen '], '19017': ['Kindler, Sven-Christian ', 'Klein-Schmeink, Maria ', '', 'Rüffer,\\xa0Corinna '], '19018': ['Göring-Eckardt, Katrin ', 'Kindler, Sven-Christian ', 'Klein-Schmeink, Maria ', '', 'Rüffer, Corinna ', 'Tressel, Markus '], '19019': ['', 'Mihalic, Irene * '], '19020': ['Gehring, Kai ', 'Kindler, Sven-Christian ', '', 'Lindner, Dr . Tobias ', 'Mihalic, Irene * '], '19021': ['', 'Lindner, Dr . Tobias ', 'Mihalic, Irene* '], '19022': ['', 'Mihalic, Irene * '], '19023': ['', 'Mihalic, Irene * '], '19024': ['Brugger, Agnieszka ', 'Kindler, Sven-Christian ', '', 'Mihalic, Irene * '], '19025': ['Brantner, Dr. Franziska ', 'Mihalic, Irene * ', ''], '19026': ['Brantner, Dr . Franziska ', 'Kindler, Sven-Christian ', 'Kotting-Uhl, Sylvia ', 'Mihalic, Irene * ', '', '', '', ''], '19027': ['Brantner, Dr . Franziska ', 'Kekeritz, Uwe ', 'Kotting-Uhl, Sylvia ', 'Mihalic, Irene * ', 'Sarrazin, Manuel ', ''], '19028': ['Kotting-Uhl, Sylvia ', 'Lehmann, Sven ', 'Mihalic, Irene * ', 'Schmidt, Dr . Frithjof '], '19029': ['Kotting-Uhl, Sylvia ', 'Mihalic, Irene * '], '19030': ['Kotting-Uhl, Sylvia ', 'Mihalic, Irene * ', 'Trittin, Jürgen '], '19031': ['Amtsberg, Luise ', 'Andreae, Kerstin ', 'Brugger, Agnieszka ', 'Kotting-Uhl, Sylvia ', 'Mihalic, Irene * ', ''], '19032': ['Dörner, Katja ', 'Kotting-Uhl, Sylvia ', 'Mihalic, Irene * ', 'Walter-Rosenheimer, Beate '], '19033': ['Kotting-Uhl, Sylvia ', 'Mihalic, Irene * ', 'Walter-Rosenheimer, Beate '], '19034': ['Kotting-Uhl, Sylvia ', 'Mihalic, Irene * ', 'Tressel, Markus ', 'Walter-Rosenheimer, Beate '], '19035': ['Brugger, Agnieszka ', 'Kekeritz, Uwe ', 'Mihalic, Irene * ', 'Sarrazin, Manuel ', 'Schick, Dr. Gerhard ', 'Walter-Rosenheimer, Beate '], '19036': ['Keul, Katja ', 'Mihalic, Irene * ', 'Schick, Dr . Gerhard ', 'Stumpp, Margit ', 'Walter-Rosenheimer, Beate '], '19037': ['Gastel, Matthias ', 'Keul, Katja ', 'Mihalic, Irene * ', 'Schick, Dr . Gerhard ', 'Stumpp, Margit ', 'Trittin, Jürgen ', 'Walter-Rosenheimer, Beate '], '19038': ['Mihalic, Irene * ', 'Schick, Dr. Gerhard ', 'Walter-Rosenheimer, Beate '], '19039': ['Mihalic, Irene ', 'Schick, Dr . Gerhard ', 'Walter-Rosenheimer, Beate '], '19040': ['Mihalic, Irene ', 'Schick, Dr . Gerhard ', 'Trittin, Jürgen ', 'Walter-Rosenheimer, Beate '], '19041': ['Brugger, Agnieszka* ', 'Walter-Rosenheimer, Beate '], '19042': ['Brugger, Agnieszka* ', 'Dörner, Katja ', 'Walter-Rosenheimer, Beate '], '19043': ['Brugger, Agnieszka* ', 'Deligöz, Ekin ', 'Dörner, Katja ', 'Walter-Rosenheimer, Beate '], '19044': ['Brugger, Agnieszka* ', 'Nestle, Ingrid ', 'Schick, Dr. Gerhard ', 'Walter-Rosenheimer, Beate '], '19045': ['Brugger, Agnieszka* ', 'Nestle, Ingrid ', 'Schick, Dr. Gerhard ', 'Walter-Rosenheimer, Beate '], '19046': ['Brugger, Agnieszka* ', 'Nestle, Ingrid ', 'Schick, Dr . Gerhard ', 'Walter-Rosenheimer, Beate '], '19047': ['Baerbock, Annalena ', 'Brugger, Agnieszka* ', 'Verlinden, Dr. Julia '], '19048': ['Baerbock, Annalena ', 'Brugger, Agnieszka* '], '19049': ['Baerbock, Annalena ', 'Brugger, Agnieszka* ', 'Trittin, Jürgen '], '19050': ['Baerbock, Annalena ', 'Brugger, Agnieszka* ', 'Janecek, Dieter ', 'Krischer, Oliver ', 'Trittin, Jürgen '], '19051': ['Brugger, Agnieszka* ', 'Roth (Augsburg), Claudia ', 'Rüffer, Corinna '], '19052': ['Brugger, Agnieszka* ', 'Ostendorff, Friedrich ', 'Paus, Lisa ', 'Rottmann, Dr. Manuela ', 'Rüffer, Corinna '], '19053': ['Brugger, Agnieszka* ', 'Janecek, Dieter ', 'Rüffer, Corinna ', 'Sarrazin, Manuel ', 'Verlinden, Dr . Julia '], '19054': ['Baerbock, Annalena ', 'Brugger, Agnieszka ', 'Künast, Renate ', 'Trittin, Jürgen '], '19055': ['Brugger, Agnieszka ', 'Krischer, Oliver ', 'Künast, Renate ', 'Mihalic, Dr . Irene ', 'Trittin, Jürgen '], '19056': ['Amtsberg, Luise ', 'Brugger, Agnieszka ', 'Deligöz, Ekin ', 'Janecek, Dieter ', 'Krischer, Oliver ', 'Mihalic, Dr . Irene ', 'Trittin, Jürgen '], '19057': ['Gelbhaar, Stefan ', 'Hofreiter, Dr. Anton ', 'Kotting-Uhl, Sylvia ', 'Künast, Renate ', 'Roth (Augsburg), Claudia ', 'Sarrazin, Manuel '], '19058': ['Hofreiter, Dr. Anton ', 'Kotting-Uhl, Sylvia '], '19059': ['Kotting-Uhl, Sylvia ', 'Nestle, Ingrid ', 'Ostendorff, Friedrich ', 'Stumpp, Margit '], '19060': [], '19061': ['Rottmann, Dr . Manuela '], '19062': ['Baerbock, Annalena ', 'Notz, Dr. Konstantin von ', 'Rottmann, Dr. Manuela '], '19063': [], '19064': ['Dörner, Katja ', 'Hoffmann, Dr . Bettina ', 'Nestle, Ingrid ', 'Nouripour, Omid '], '19065': ['Dörner, Katja ', 'Hoffmann, Dr . Bettina ', 'Nestle, Ingrid ', 'Notz, Dr . Konstantin von ', 'Sarrazin, Manuel '], '19066': ['Dörner, Katja ', 'Sarrazin, Manuel '], '19067': ['Hoffmann, Dr . Bettina ', 'Nestle, Ingrid '], '19068': ['Hoffmann, Dr . Bettina ', 'Nestle, Ingrid ', 'Sarrazin, Manuel '], '19069': ['Hoffmann, Dr. Bettina ', 'Özdemir, Cem ', 'Sarrazin, Manuel '], '19070': ['Baerbock, Annalena ', 'Hoffmann, Dr . Bettina ', 'Kotting-Uhl, Sylvia ', 'Walter-Rosenheimer, Beate '], '19071': ['Kotting-Uhl, Sylvia ', 'Walter-Rosenheimer, Beate '], '19072': ['Bause, Margarete ', 'Janecek, Dieter ', 'Kindler, Sven-Christian ', 'Kotting-Uhl, Sylvia ', 'Walter-Rosenheimer, Beate '], '19073': ['Deligöz, Ekin '], '19074': ['Deligöz, Ekin ', 'Kindler, Sven-Christian '], '19075': ['Klein-Schmeink, Maria '], '19076': ['Amtsberg, Luise ', 'Janecek, Dieter ', 'Kühn (Tübingen), Christian '], '19077': ['Janecek, Dieter '], '19078': ['Janecek, Dieter ', 'Künast, Renate '], '19079': ['Baerbock, Annalena ', 'Dörner, Katja ', 'Hofreiter, Dr . Anton ', 'Müller, Claudia ', 'Nouripour, Omid ', 'Rüffer, Corinna '], '19080': ['Künast, Renate ', 'Müller, Claudia ', 'Nouripour, Omid ', 'Ostendorff, Friedrich ', 'Rüffer, Corinna ', 'Trittin, Jürgen '], '19081': ['Baerbock, Annalena ', 'Ebner, Harald ', 'Müller, Claudia ', 'Nouripour, Omid ', 'Roth (Augsburg), Claudia ', 'Rüffer, Corinna '], '19082': ['Amtsberg, Luise '], '19083': ['Janecek, Dieter '], '19084': ['Andreae, Kerstin ', 'Bayram, Canan ', 'Haßelmann, Britta ', 'Ostendorff, Friedrich ', 'Trittin, Jürgen '], '19085': ['Deligöz, Ekin ', 'Kotting-Uhl, Sylvia ', 'Schmidt, Dr. Frithjof ', 'Walter-Rosenheimer, Beate '], '19086': ['Deligöz, Ekin ', 'Holtz, Ottmar von ', 'Kotting-Uhl, Sylvia ', 'Nestle, Ingrid ', 'Schmidt, Dr. Frithjof ', 'Walter-Rosenheimer, Beate '], '19087': ['Deligöz, Ekin ', 'Janecek, Dieter ', 'Kotting-Uhl, Sylvia ', 'Schmidt, Dr. Frithjof ', 'Verlinden, Dr. Julia ', 'Walter-Rosenheimer, Beate '], '19088': ['Amtsberg, Luise ', 'Baerbock, Annalena ', 'Deligöz, Ekin ', 'Janecek, Dieter ', 'Kühn (Dresden), Stephan ', 'Walter-Rosenheimer, Beate '], '19089': ['Kühn (Dresden), Stephan ', 'Walter-Rosenheimer, Beate '], '19090': ['Haßelmann, Britta ', 'Kindler, Sven-Christian ', 'Kühn (Dresden), Stephan ', 'Verlinden, Dr . Julia ', 'Walter-Rosenheimer, Beate '], '19091': ['Baerbock, Annalena ', 'Kühn (Dresden), Stephan ', 'Trittin, Jürgen ', 'Walter-Rosenheimer, Beate '], '19092': ['Baerbock, Annalena ', 'Kühn (Dresden), Stephan ', 'Walter-Rosenheimer, Beate '], '19093': ['Baerbock, Annalena ', 'Kindler, Sven-Christian ', 'Kühn (Dresden), Stephan ', 'Walter-Rosenheimer, Beate '], '19094': ['Baerbock, Annalena ', 'Janecek, Dieter ', 'Kühn (Dresden), Stephan ', 'Trittin, Jürgen ', 'Walter-Rosenheimer, Beate '], '19095': ['Baerbock, Annalena ', 'Walter-Rosenheimer, Beate '], '19096': ['Baerbock, Annalena ', 'Kindler, Sven-Christian ', 'Walter-Rosenheimer, Beate '], '19097': ['Baerbock, Annalena '], '19098': ['Rüffer, Corinna ', 'Schulz-Asche, Kordula '], '19099': ['Baerbock, Annalena '], '19100': ['Baerbock, Annalena ', 'Nestle, Ingrid '], '19101': ['Baerbock, Annalena ', 'Keul, Katja '], '19102': ['Andreae, Kerstin ', 'Baerbock, Annalena ', 'Dröge, Katharina ', 'Gastel, Matthias ', 'Schauws, Ulle '], '19103': ['Baerbock, Annalena ', 'Dörner, Katja '], '19104': [], '19105': ['Lemke, Steffi '], '19106': [], '19107': [], '19108': ['Bause, Margarete ', 'Dörner, Katja ', 'Janecek, Dieter ', 'Walter-Rosenheimer, Beate '], '19109': ['Amtsberg, Luise ', 'Baerbock, Annalena ', 'Deligöz, Ekin ', 'Dörner, Katja ', 'Hoffmann, Dr . Bettina ', 'Hofreiter, Dr . Anton ', 'Holtz, Ottmar von ', 'Janecek, Dieter ', 'Kappert-Gonther, Dr . Kirsten ', 'Keul, Katja ', 'Kindler, Sven-Christian ', 'Klein-Schmeink, Maria ', 'Künast, Renate ', 'Lazar, Monika ', 'Lehmann, Sven ', 'Müller-Gemmeke, Beate ', 'Rößner, Tabea ', 'Roth (Augsburg), Claudia ', 'Schmidt, Stefan ', 'Schulz-Asche, Kordula ', 'Tressel, Markus ', 'Verlinden, Dr . Julia ', 'Wagner, Daniela '], '19110': ['Holtz, Ottmar von ', 'Kühn (Dresden), Stephan '], '19111': ['Baerbock, Annalena ', 'Holtz, Ottmar von ', 'Verlinden, Dr. Julia '], '19112': ['Holtz, Ottmar von ', 'Kühn (Tübingen), Christian '], '19113': ['Holtz, Ottmar von '], '19114': [], '19115': ['Lehmann, Sven '], '19116': ['Baerbock, Annalena ', 'Dörner, Katja ', 'Lehmann, Sven ', 'Rößner, Tabea ', 'Schmidt, Dr. Frithjof '], '19117': ['Baerbock, Annalena ', 'Göring-Eckardt, Katrin ', 'Janecek, Dieter ', 'Nestle, Dr. Ingrid ', 'Paus, Lisa ', 'Rößner, Tabea ', ''], '19118': ['Nestle, Dr. Ingrid ', 'Paus, Lisa '], '19119': ['Andreae, Kerstin ', 'Baerbock, Annalena ', 'Janecek, Dieter ', 'Nestle, Dr. Ingrid ', 'Nouripour, Omid ', 'Özdemir, Cem ', 'Paus, Lisa '], '19120': ['Amtsberg, Luise ', 'Baerbock, Annalena ', 'Kühn (Dresden), Stephan ', 'Rößner, Tabea '], '19121': ['Amtsberg, Luise ', 'Christmann, Dr. Anna ', 'Göring-Eckardt, Katrin ', 'Rößner, Tabea ', 'Trittin, Jürgen '], '19122': ['Andreae, Kerstin ', 'Göring-Eckardt, Katrin ', 'Kühn (Dresden), Stephan ', 'Rößner, Tabea ', '', 'Trittin, Jürgen '], '19123': ['Baerbock, Annalena ', 'Christmann, Dr. Anna ', 'Kühn (Dresden), Stephan ', 'Sarrazin, Manuel ', 'Schmidt, Dr. Frithjof ', ''], '19124': ['Christmann, Dr. Anna ', 'Kühn (Dresden), Stephan ', 'Sarrazin, Manuel ', 'Schmidt, Dr. Frithjof ', ''], '19125': ['Christmann, Dr. Anna ', 'Deligöz, Ekin ', 'Kühn (Dresden), Stephan ', 'Sarrazin, Manuel ', 'Schmidt, Dr. Frithjof ', ''], '19126': ['Baerbock, Annalena ', 'Dörner, Katja ', 'Sarrazin, Manuel ', ''], '19127': ['Brugger, Agnieszka ', 'Christmann, Dr. Anna ', 'Rottmann, Dr. Manuela ', 'Sarrazin, Manuel ', ''], '19128': ['Baerbock, Annalena ', 'Brugger, Agnieszka ', 'Christmann, Dr. Anna ', 'Paus, Lisa ', 'Roth (Augsburg), Claudia ', 'Rottmann, Dr. Manuela ', 'Sarrazin, Manuel ', '', 'Schulz-Asche, Kordula '], '19129': ['Krischer, Oliver ', 'Lehmann, Sven ', 'Mihalic, Dr. Irene ', 'Rottmann, Dr. Manuela '], '19130': ['Krischer, Oliver ', 'Mihalic, Dr. Irene ', 'Rottmann, Dr. Manuela ', 'Sarrazin, Manuel ', 'Schauws, Ulle '], '19131': ['Kindler, Sven-Christian ', 'Mihalic, Dr. Irene ', 'Rottmann, Dr. Manuela ', 'Schauws, Ulle '], '19132': ['Amtsberg, Luise ', 'Janecek, Dieter ', 'Kekeritz, Uwe ', 'Mihalic, Dr. Irene ', 'Rottmann, Dr. Manuela ', 'Schauws, Ulle '], '19133': ['Badum, Lisa ', 'Baerbock, Annalena ', 'Kindler, Sven-Christian ', 'Kotting-Uhl, Sylvia ', 'Mihalic, Dr. Irene ', 'Nouripour, Omid '], '19134': ['Badum, Lisa ', 'Göring-Eckardt, Katrin ', 'Grundl, Erhard ', 'Kindler, Sven-Christian ', 'Kotting-Uhl, Sylvia ', 'Nouripour, Omid '], '19135': ['Badum, Lisa ', 'Brugger, Agnieszka ', 'Grundl, Erhard ', 'Kindler, Sven-Christian ', 'Kotting-Uhl, Sylvia ', 'Nouripour, Omid ', 'Sarrazin, Manuel '], '19136': ['Baerbock, Annalena '], '19137': ['Zickenheiner, Gerhard '], '19138': ['Amtsberg, Luise ', 'Schmidt, Dr. Frithjof ', 'Walter-Rosenheimer, Beate '], '19139': ['Baerbock, Annalena ', 'Christmann, Dr. Anna* ', 'Deligöz, Ekin ', 'Polat, Filiz ', 'Schmidt, Dr. Frithjof '], '19140': ['Christmann, Dr. Anna* ', 'Hofreiter, Dr. Anton '], '19141': ['Christmann, Dr. Anna* ', 'Hofreiter, Dr. Anton ', 'Schmidt, Dr. Frithjof '], '19142': ['Christmann, Dr. Anna* ', 'Schmidt, Dr. Frithjof '], '19143': ['Christmann, Dr. Anna* ', 'Kekeritz, Uwe ', 'Nestle, Dr. Ingrid ', 'Schmidt, Dr. Frithjof '], '19144': ['Christmann, Dr. Anna* ', 'Kekeritz, Uwe ', 'Müller, Claudia ', 'Nestle, Dr. Ingrid ', 'Schmidt, Dr. Frithjof ', 'Schulz-Asche, Kordula ', 'Verlinden, Dr. Julia '], '19145': ['Baerbock, Annalena ', 'Bayaz, Dr. Danyal ', 'Christmann, Dr. Anna* ', 'Rottmann, Dr. Manuela '], '19146': ['Bayaz, Dr. Danyal ', 'Christmann, Dr. Anna* ', 'Ebner, Harald ', 'Künast, Renate ', 'Ostendorff, Friedrich ', 'Rottmann, Dr. Manuela '], '19147': ['Baerbock, Annalena ', 'Christmann, Dr. Anna* ', 'Roth (Augsburg), Claudia '], '19148': ['Brantner, Dr. Franziska ', 'Christmann, Dr. Anna* '], '19149': ['Deligöz, Ekin '], '19150': ['Hofreiter, Dr. Anton ', 'Rottmann, Dr. Manuela '], '19151': ['Baerbock, Annalena ', 'Özdemir, Cem ', 'Roth (Augsburg), Claudia ', 'Wagner, Daniela '], '19152': ['Dörner, Katja ', 'Kotting-Uhl, Sylvia ', 'Özdemir, Cem ', 'Roth (Augsburg), Claudia ', 'Rottmann, Dr. Manuela ', 'Schmidt, Stefan ', 'Wagner, Daniela '], '19153': ['Amtsberg, Luise ', 'Dörner, Katja ', 'Gehring, Kai ', 'Kindler, Sven-Christian ', '', 'Özdemir, Cem ', 'Roth (Augsburg), Claudia ', 'Rottmann, Dr. Manuela ', 'Schmidt, Stefan ', '', 'Wagner, Daniela '], '19154': [], '19155': ['ge der Abgeordneten Canan Bayram (', 'ge der Abgeordneten Dr. Julia Verlinden (', 'ge der Abgeordneten Dr. Julia Verlinden (', 'ge der Abgeordneten Dr. Ingrid Nestle (', 'ge des Abgeordneten Oliver Krischer (', 'ge des Abgeordneten Oliver Krischer ('], '19156': [], '19157': ['Baerbock, Annalena ', 'Bayaz, Dr. Danyal ', 'Hajduk, Anja ', 'Holtz, Ottmar von ', 'Polat, Filiz ', 'Schmidt, Dr. Frithjof ', '', 'Schulz-Asche, Kordula '], '19158': ['Bayaz, Dr. Danyal ', 'Hajduk, Anja ', 'Holtz, Ottmar von ', 'Polat, Filiz ', 'Schmidt, Dr. Frithjof ', '', 'Schulz-Asche, Kordula '], '19159': ['Baerbock, Annalena ', 'Hajduk, Anja ', 'Krischer, Oliver ', 'Rüffer, Corinna ', 'Schmidt, Dr. Frithjof ', '', 'Schulz-Asche, Kordula '], '19160': ['Baerbock, Annalena ', 'Hajduk, Anja ', 'Rüffer, Corinna ', 'Schmidt, Dr. Frithjof ', '', 'Schulz-Asche, Kordula '], '19161': ['Baerbock, Annalena ', 'Dörner, Katja ', 'Hajduk, Anja ', 'Klein-Schmeink, Maria ', 'Polat, Filiz ', 'Rüffer, Corinna ', 'Schmidt, Dr. Frithjof ', '', 'Schulz-Asche, Kordula '], '19162': ['Krischer, Oliver ', 'Müller-Gemmeke, Beate ', 'Schmidt, Dr. Frithjof ', '', 'Schulz-Asche, Kordula '], '19163': ['Amtsberg, Luise ', 'Hajduk, Anja ', 'Krischer, Oliver ', 'Schmidt, Dr. Frithjof ', '', 'Schulz-Asche, Kordula '], '19164': ['Dörner, Katja ', 'Hajduk, Anja ', 'Kühn (Dresden), Stephan ', 'Lehmann, Sven ', 'Schmidt, Dr. Frithjof ', '', 'Schulz-Asche, Kordula '], '19165': ['Amtsberg, Luise '], '19166': ['Lehmann, Sven '], '19167': ['Dörner, Katja ', 'Kühn (Dresden), Stephan '], '19168': ['Dörner, Katja ', 'Müller-Gemmeke, Beate ', 'Sarrazin, Manuel ', ''], '19169': ['Dörner, Katja ', 'Trittin, Jürgen '], '19170': ['Dörner, Katja '], '19171': ['Dörner, Katja '], '19172': ['Baerbock, Annalena ', 'Dörner, Katja ', 'Lehmann, Sven ', 'Özdemir, Cem '], '19173': ['Dörner, Katja ', 'Göring-Eckardt, Katrin ', 'Lehmann, Sven ', 'Özdemir, Cem '], '19174': ['Dörner, Katja ', 'Dröge, Katharina ', 'Göring-Eckardt, Katrin ', 'Janecek, Dieter ', 'Lehmann, Sven ', 'Özdemir, Cem ', 'Schauws, Ulle '], '19175': ['Baerbock, Annalena ', 'Dörner, Katja ', 'Janecek, Dieter ', 'Kühn (Tübingen), Christian '], '19176': ['Bayaz, Dr. Danyal ', 'Dörner, Katja ', 'Kühn (Tübingen), Christian ', 'Özdemir, Cem '], '19177': ['Christmann, Dr. Anna ', 'Dörner, Katja ', 'Kühn (Dresden), Stephan ', 'Kühn (Tübingen), Christian ', 'Özdemir, Cem ', ''], '19178': ['Brugger, Agnieszka ', 'Dörner, Katja ', 'Göring-Eckardt, Katrin ', 'Lindner, Dr. Tobias ', 'Roth (Augsburg), Claudia ', ''], '19179': ['Baerbock, Annalena ', 'Brugger, Agnieszka ', 'Dörner, Katja ', '', 'Trittin, Jürgen '], '19180': ['Brugger, Agnieszka ', 'Dörner, Katja ', '', 'Trittin, Jürgen '], '19181': ['Brugger, Agnieszka ', 'Dörner, Katja ', 'Hoffmann, Dr. Bettina ', '', 'Trittin, Jürgen '], '19182': ['Baerbock, Annalena ', 'Göring-Eckardt, Katrin '], '19183': [], '19184': ['Dörner, Katja ', 'Klein-Schmeink, Maria '], '19185': ['Amtsberg, Luise ', 'Baerbock, Annalena ', 'Dörner, Katja ', 'Kotting-Uhl, Sylvia ', 'Özdemir, Cem ', 'Walter-Rosenheimer, Beate '], '19186': ['Amtsberg, Luise ', 'Dörner, Katja ', 'Walter-Rosenheimer, Beate '], '19187': ['Amtsberg, Luise ', 'Dörner, Katja ', 'Dröge, Katharina ', 'Janecek, Dieter ', 'Polat, Filiz ', 'Trittin, Jürgen ', 'Walter-Rosenheimer, Beate '], '19188': [], '19189': ['Sarrazin, Manuel '], '19190': ['Nestle, Dr. Ingrid ', 'Sarrazin, Manuel '], '19191': ['Baerbock, Annalena '], '19192': [], '19193': ['Baerbock, Annalena ', 'Ebner, Harald ', 'Kindler, Sven-Christian ', 'Lehmann, Sven '], '19194': ['Baerbock, Annalena ', 'Lehmann, Sven ', 'Nestle, Dr. Ingrid ', ''], '19195': ['Amtsberg, Luise ', 'Nestle, Dr. Ingrid ', ''], '19196': ['Janecek, Dieter ', 'Nestle, Dr. Ingrid ', '', 'Tressel, Markus '], '19197': ['Baerbock, Annalena ', 'Brantner, Dr. Franziska ', 'Göring-Eckardt, Katrin ', 'Müller, Claudia ', 'Schmidt, Dr. Frithjof ', '', 'Wagner, Daniela '], '19198': ['Brantner, Dr. Franziska ', 'Göring-Eckardt, Katrin ', '', 'Trittin, Jürgen ', 'Wagner, Daniela '], '19199': ['Göring-Eckardt, Katrin ', '', 'Wagner, Daniela '], '19200': ['Ebner, Harald ', 'Göring-Eckardt, Katrin ', 'Kekeritz, Uwe ', 'Schmidt, Dr. Frithjof ', '', 'Wagner, Daniela '], '19201': ['Baerbock, Annalena ', 'Göring-Eckardt, Katrin ', ''], '19202': ['Göring-Eckardt, Katrin ', 'Kindler, Sven-Christian ', ''], '19203': ['Baerbock, Annalena ', 'Rüffer, Corinna ', 'Schmidt, Dr. Frithjof ', '', 'Walter-Rosenheimer, Beate '], '19204': ['Rüffer, Corinna ', 'Schmidt, Dr. Frithjof ', '', 'Walter-Rosenheimer, Beate '], '19205': ['Müller-Gemmeke, Beate ', '', 'Walter-Rosenheimer, Beate '], '19206': ['Lehmann, Sven ', 'Müller-Gemmeke, Beate ', '', 'Walter-Rosenheimer, Beate '], '19207': ['Baerbock, Annalena ', 'Kühn (Tübingen), Christian ', 'Lehmann, Sven ', 'Müller-Gemmeke, Beate ', 'Polat, Filiz ', '', 'Walter-Rosenheimer, Beate '], '19208': ['Amtsberg, Luise ', 'Baerbock, Annalena ', 'Hoffmann, Dr. Bettina ', 'Holtz, Ottmar von ', 'Lehmann, Sven ', 'Müller, Claudia ', 'Ostendorff, Friedrich ', 'Polat, Filiz ', 'Rößner, Tabea ', 'Schmidt, Dr. Frithjof ', '', 'Wagner, Daniela ', 'Walter-Rosenheimer, Beate '], '19209': ['Hoffmann, Dr. Bettina ', 'Holtz, Ottmar von ', 'Müller, Claudia ', 'Ostendorff, Friedrich ', 'Rößner, Tabea ', 'Schmidt, Dr. Frithjof ', '', 'Walter-Rosenheimer, Beate '], '19210': ['Göring-Eckardt, Katrin ', 'Hoffmann, Dr. Bettina ', 'Holtz, Ottmar von ', 'Kindler, Sven-Christian ', 'Müller, Claudia ', 'Ostendorff, Friedrich ', 'Rößner, Tabea ', 'Sarrazin, Manuel ', 'Schmidt, Dr. Frithjof ', '', 'Walter-Rosenheimer, Beate '], '19211': ['Baerbock, Annalena ', 'Kekeritz, Uwe ', 'Rößner, Tabea '], '19212': ['Amtsberg, Luise ', 'Kekeritz, Uwe ', 'Rößner, Tabea '], '19213': ['Amtsberg, Luise ', 'Kekeritz, Uwe ', 'Rößner, Tabea '], '19214': ['Ostendorff, Friedrich ', 'Rößner, Tabea ', 'Rüffer, Corinna '], '19215': ['Ostendorff, Friedrich ', 'Rößner, Tabea ', 'Rüffer, Corinna '], '19216': ['Müller-Gemmeke, Beate ', 'Ostendorff, Friedrich ', 'Rößner, Tabea ', 'Rüffer, Corinna '], '19217': ['Hofreiter, Dr. Anton ', 'Kindler, Sven-Christian ', 'Kühn (Tübingen), Christian ', 'Ostendorff, Friedrich ', 'Wetzel, Wolfgang '], '19218': ['Amtsberg, Luise ', 'Hofreiter, Dr. Anton ', 'Kindler, Sven-Christian ', 'Ostendorff, Friedrich ', 'Wetzel, Wolfgang '], '19219': ['Amtsberg, Luise ', 'Hofreiter, Dr. Anton ', 'Kindler, Sven-Christian ', 'Ostendorff, Friedrich ', 'Wetzel, Wolfgang ', 'Zickenheiner, Gerhard '], '19220': ['Dahmen, Dr. Janosch ', 'Krischer, Oliver ', 'Lehmann, Sven ', 'Müller-Gemmeke, Beate ', 'Ostendorff, Friedrich ', 'Walter-Rosenheimer, Beate ', 'Wetzel, Wolfgang '], '19221': ['Dahmen, Dr. Janosch ', 'Krischer, Oliver ', 'Ostendorff, Friedrich ', 'Walter-Rosenheimer, Beate ', 'Wetzel, Wolfgang '], '19222': ['Kekeritz, Uwe ', 'Krischer, Oliver ', 'Ostendorff, Friedrich ', 'Roth (Augsburg), Claudia ', '', 'Walter-Rosenheimer, Beate ', 'Wetzel, Wolfgang '], '19223': ['Bayaz, Dr. Danyal ', 'Brantner, Dr. Franziska ', 'Brugger, Agnieszka ', 'Ebner, Harald ', 'Lehmann, Sven ', 'Müller-Gemmeke, Beate ', 'Ostendorff, Friedrich ', 'Özdemir, Cem ', 'Walter-Rosenheimer, Beate ', 'Wetzel, Wolfgang '], '19224': ['Ebner, Harald ', 'Kühn (Tübingen), Christian ', 'Lehmann, Sven ', 'Ostendorff, Friedrich ', 'Rottmann, Dr. Manuela ', 'Walter-Rosenheimer, Beate ', 'Wetzel, Wolfgang '], '19225': ['Dahmen, Dr. Janosch ', 'Ebner, Harald ', 'Hoffmann, Dr. Bettina ', 'Kühn (Tübingen), Christian ', 'Lehmann, Sven ', 'Müller-Gemmeke, Beate ', 'Ostendorff, Friedrich ', 'Rottmann, Dr. Manuela ', 'Rüffer, Corinna ', '', 'Walter-Rosenheimer, Beate ', 'Wetzel, Wolfgang '], '19226': ['Baerbock, Annalena ', 'Brugger, Agnieszka ', 'Haßelmann, Britta ', 'Lehmann, Sven ', 'Ostendorff, Friedrich '], '19227': ['(Beifall beim ', 'Kappert-Gonther [', '(Beifall beim ', 'Dr. Kirsten Kappert-Gonther (', '(Beifall beim ', '(Beifall beim ', '(Beifall beim ', '(Beifall beim ', '[', '(Beifall beim ', '(Beifall beim ', '(Beifall beim ', '(Maria Klein-Schmeink [', '[', '(Beifall beim ', 'Maria Klein-Schmeink (', '(Beifall beim ', '(Beifall beim ', '(Beifall beim ', '(Beifall beim ', '(Maria Klein-Schmeink [', '[', '[', '[', '(Beifall beim ', 'Maria Klein-Schmeink (', '(Beifall beim ', '(Beifall beim ', '(Beifall beim ', 'Maria Klein-Schmeink (', '(Beifall beim ', '(Maria Klein-Schmeink [', 'Schmeink [', 'Kappert-Gonther [', '(Renate Künast [', '(Beifall beim ', 'Renate Künast (', '(Beifall beim ', '(Beifall beim ', '(Beifall beim ', '(Beifall beim ', '(Beifall beim ', 'Renate Künast (', '(Beifall beim ', 'neter und der Fraktion ', 'und dem ', '(Beifall beim ', 'Dr. Bettina Hoffmann (', '(Beifall beim ', '(Beifall beim ', '(Dr. Konstantin von Notz [', '', '(Dr. Konstantin von Notz [', '(Dr. Konstantin von Notz [', '(Dr. Konstantin von Notz [', '(Beifall beim ', 'Dr. Konstantin von Notz (', '(Beifall beim ', '(Beifall beim ', '(Beifall beim ', '(Beifall beim ', '(Beifall beim ', '(Beifall beim ', '(Beifall beim ', 'Abg. Katharina Dröge [', '(Beifall beim ', 'Katharina Dröge (', '(Beifall beim ', '(Beifall beim ', '(Beifall beim ', '(Beifall beim ', '', 'Fraktion ', 'neter und der Fraktion ', '(Zuruf vom ', '[', '[', '(Zuruf vom ', '[', '(Beifall beim ', 'Kordula Schulz-Asche (', '(Beifall beim ', '(Beifall beim ', '(Beifall beim ', '(Beifall beim ', '(Beifall beim ', 'Kordula Schulz-Asche (', 'Kordula Schulz-Asche (', '(Beifall beim ', 'Schulz-Asche [', '(Beifall beim ', 'Erhard Grundl (', '(Beifall beim ', '(Beifall beim ', '(Beifall beim ', '(Beifall beim ', '(Beifall beim ', 'Erhard Grundl (', '(Heiterkeit und Beifall beim ', 'ter und der Fraktion ', 'ter und der Fraktion ', '', '', 'Kekeritz [', '(Beifall beim ', 'Jürgen Trittin (', '(Beifall beim ', '(Beifall beim ', '(Beifall beim ', '(Beifall beim ', '(Beifall beim ', '(Beifall beim ', '(Beifall beim ', '(Beifall beim ', '(Beifall beim ', 'Jürgen Trittin (', 'Jürgen Trittin (', '(Beifall beim ', '(Jürgen Trittin [', '', 'der Abg. Katharina Dröge [', 'Katharina Dröge [', 'Kuhn [', 'Katharina Dröge [', '(Beifall beim ', '(Beifall beim ', '(Beifall beim ', 'Daniela Wagner (', '(Beifall beim ', '(Beifall beim ', '(Beifall beim ', 'Daniela Wagner (', '(Beifall beim ', '', '(Beifall beim ', 'Matthias Gastel (', '(Beifall beim ', '(Beifall beim ', '(Beifall beim ', '(Beifall beim ', '(Lisa Badum [', '(Beifall beim ', 'Dr. Julia Verlinden (', '(Beifall beim ', '(Beifall beim ', '(Beifall beim ', '(Beifall beim ', '(Beifall beim ', '(Beifall beim ', 'Dr. Julia Verlinden (', '(Beifall beim ', 'der LINKEN und dem '], '19228': ['Dahmen, Dr. Janosch ', 'Haßelmann, Britta ', 'Janecek, Dieter ', 'Lehmann, Sven ', 'Ostendorff, Friedrich ', 'Walter-Rosenheimer, Beate '], '19229': ['Bayaz, Dr. Danyal ', 'Janecek, Dieter ', 'Kühn (Tübingen), Christian ', 'Ostendorff, Friedrich '], '19230': ['Bayaz, Dr. Danyal ', 'Janecek, Dieter ', 'Kühn (Tübingen), Christian ', 'Ostendorff, Friedrich '], '19231': ['Amtsberg, Luise ', 'Janecek, Dieter ', 'Kühn (Tübingen), Christian ', 'Ostendorff, Friedrich ', 'Schulz-Asche, Kordula '], '19232': ['Lehmann, Sven ', ''], '19233': ['', ''], '19234': ['Baerbock, Annalena ', 'Bause, Margarete ', 'Holtz, Ottmar von ', 'Lehmann, Sven ', 'Paus, Lisa ', 'Polat, Filiz ', ''], '19235': ['Baerbock, Annalena ', 'Lehmann, Sven '], '19236': ['Lehmann, Sven ', 'Müller-Gemmeke, Beate '], '19237': ['Lehmann, Sven ', 'Müller-Gemmeke, Beate '], '19238': ['Mihalic, Dr. Irene ', 'Ostendorff, Friedrich ', 'Rüffer, Corinna ', 'Schmidt, Dr. Frithjof ', '', 'Wagner, Daniela '], '19239': ['Bause, Margarete ', 'Grundl, Erhard ', '', 'Kurth, Markus ', 'Lehmann, Sven ', 'Özdemir, Cem ', 'Roth (Augsburg), Claudia ', 'Rottmann, Dr. Manuela ', 'Verlinden, Dr. Julia ']}\n"
     ]
    }
   ],
   "source": [
    "directory = os.fsencode(\"../Data/\")\n",
    "\n",
    "#Iterate over files in folder\n",
    "\n",
    "for file in os.listdir(directory):\n",
    "\n",
    "    #create helper arrays\n",
    "\n",
    "    DIELINKE = []\n",
    "    CDUCSU= []\n",
    "    FDP= []\n",
    "    SPD= []\n",
    "    GRUENE= []\n",
    "    FRAKTIONSLOS= []\n",
    "    AFD= []\n",
    "\n",
    "    filename = os.fsdecode(file)\n",
    "    tree = ET.parse(\"../Data/\"+filename)\n",
    "    root = tree.getroot()\n",
    "\n",
    "    #Get content in xml files\n",
    "\n",
    "    for content in root.iter('TEXT'):\n",
    "        meeting_content = content.text\n",
    "\n",
    "    #This split is done to seperate the Anlagen from the rest of the text, it is the only consistently working string we know of\n",
    "\n",
    "    split = meeting_content.split(\"Stenografischen Bericht\")\n",
    "\n",
    "    #This split is done to cut the rest of the file from the missing MPs part of the anlagen. If there is no Anlage 2, we have found that splitting on \"satzweiss.com\" yields good results too\n",
    "\n",
    "    split = split[1].split(\"Anlage 2\")\n",
    "    split = split[0].split(\"Satzweiss.com\")\n",
    "    \n",
    "    #split into seperate rows to get MP names\n",
    "\n",
    "    missing_mps = split[0].split(\"\\n\")\n",
    "\n",
    "    #assign mps to parties\n",
    "\n",
    "    for element in missing_mps:\n",
    "\n",
    "        if \"DIE LINKE\" in element:\n",
    "            element = element.split(\"DIE LINKE\")\n",
    "            DIELINKE.append(element[0])\n",
    "            #np.append(missing_mps_DIE_LINKE, [[filename],[element[0]]])\n",
    "            \n",
    "        if \"CDU/CSU\" in element:\n",
    "            element = element.split(\"CDU/CSU\")\n",
    "            CDUCSU.append(element[0])\n",
    "\n",
    "        if \"FDP\" in element:\n",
    "            element = element.split(\"FDP\")\n",
    "            FDP.append(element[0])\n",
    "\n",
    "        if \"SPD\" in element:\n",
    "            element = element.split(\"SPD\")\n",
    "            SPD.append(element[0])\n",
    "        \n",
    "        if \"BÜNDNIS 90/\" in element:\n",
    "            element = element.split(\"BÜNDNIS 90/\")\n",
    "            GRUENE.append(element[0])\n",
    "        \n",
    "        if \"fraktionslos\" in element:\n",
    "            element = element.split(\"fraktionslos\")\n",
    "            FRAKTIONSLOS.append(element[0])\n",
    "\n",
    "        if \"AfD\" in element:\n",
    "            element = element.split(\"AfD\")\n",
    "            AFD.append(element[0])\n",
    "\n",
    "    \n",
    "    #Here the complete names of missing mps per meeting are added to a dictionary with the meeting id in format \"19XXX\" as a key\n",
    "\n",
    "    filename = filename[:-4]\n",
    "    missing_mps_DIE_LINKE.update( {filename  : DIELINKE} )\n",
    "    missing_mps_CDUCSU.update( {filename  : CDUCSU} )\n",
    "    missing_mps_FDP.update( {filename  : FDP} )\n",
    "    missing_mps_SPD.update( {filename  : SPD} )\n",
    "    missing_mps_GRUENE.update( {filename  : GRUENE} )\n",
    "    missing_mps_FRAKTIONSLOS.update( {filename  : FRAKTIONSLOS} )\n",
    "    missing_mps_AFD.update( {filename  : AFD} )\n",
    "\n",
    "#print(\"Linke Missing: \" + str(missing_mps_DIE_LINKE))\n",
    "print(\"Grüne Missing: \" + str(missing_mps_GRUENE))\n",
    "#print(\"Fraktionslos Missing: \" + str(missing_mps_FRAKTIONSLOS))\n",
    "\n",
    "\n"
   ]
  },
  {
   "cell_type": "code",
   "execution_count": null,
   "metadata": {},
   "outputs": [],
   "source": []
  }
 ],
 "metadata": {
  "kernelspec": {
   "display_name": "Python 3.10.4 ('AML_bidde')",
   "language": "python",
   "name": "python3"
  },
  "language_info": {
   "codemirror_mode": {
    "name": "ipython",
    "version": 3
   },
   "file_extension": ".py",
   "mimetype": "text/x-python",
   "name": "python",
   "nbconvert_exporter": "python",
   "pygments_lexer": "ipython3",
   "version": "3.10.4"
  },
  "orig_nbformat": 4,
  "vscode": {
   "interpreter": {
    "hash": "6b52411e3314414b702c5686635835232cca674170cc7878c1cad8ba3f5f04eb"
   }
  }
 },
 "nbformat": 4,
 "nbformat_minor": 2
}
