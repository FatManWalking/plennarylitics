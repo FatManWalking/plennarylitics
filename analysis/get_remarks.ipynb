{
 "cells": [
  {
   "cell_type": "code",
   "execution_count": 33,
   "metadata": {},
   "outputs": [],
   "source": [
    "import xml.etree.ElementTree as ET\n",
    "import re"
   ]
  },
  {
   "cell_type": "code",
   "execution_count": 34,
   "metadata": {},
   "outputs": [
    {
     "name": "stdout",
     "output_type": "stream",
     "text": [
      "WAHLPERIODE {}\n",
      "DOKUMENTART {}\n",
      "NR {}\n",
      "DATUM {}\n",
      "TITEL {}\n",
      "TEXT {}\n"
     ]
    }
   ],
   "source": [
    "tree = ET.parse('../Data/19046.xml')\n",
    "root = tree.getroot()\n",
    "for child in root:\n",
    "    print(child.tag, child.attrib)"
   ]
  },
  {
   "cell_type": "code",
   "execution_count": 35,
   "metadata": {},
   "outputs": [],
   "source": [
    "for content in root.iter('TEXT'):\n",
    "    meeting_content = content.text"
   ]
  },
  {
   "cell_type": "code",
   "execution_count": 36,
   "metadata": {},
   "outputs": [
    {
     "name": "stdout",
     "output_type": "stream",
     "text": [
      "['Ulli Nissen [SPD]: Unwürdig sind Sie!', 'Ulli Nissen [SPD]: Das haben wir schon gestern gehört!', 'Andrea Nahles [SPD]: Na ja!', 'Andrea Nahles [SPD]: Ja! Sehr richtig!', 'Burkhard Lischka [SPD]: Sie haben den Überblick verloren!', 'Beifall bei der FDP sowie bei Abgeordneten der SPD – Burkhard Lischka [SPD]: Eine ein- zige Hippieveranstaltung da hinten!', 'Burkhard Lischka [SPD]: Die sind doch drin im PKGr! Das wissen die nur gar nicht!', 'Heiterkeit und Beifall bei der FDP, der CDU/ CSU, der SPD und dem BÜNDNIS 90/DIE GRÜNEN sowie bei Abgeordneten der LIN- KEN – Burkhard Lischka [SPD]: Peinlich ist das!', 'Andrea Nahles [SPD]: Was?', 'Andrea Nahles [SPD]: Oh! Großer Gott!', 'Andrea Nahles [SPD]: Es wird keine Tran- sitzonen geben! Das ist eine Schimäre!', 'Beifall bei der LINKEN – Ulli Nissen [SPD]: Was ist denn das für ein Unfug! – Jürgen Braun [AfD]: Im 20 . Jahrhundert hat Ihre Par- tei für viel schlimmere Bilder gesorgt!', 'Ulli Nissen [SPD]: Haben wir doch ge- macht!', 'Burkhard Lischka [SPD]: Komplett! – Wei- tere Zurufe von der SPD', 'Andrea Nahles [SPD]: Es gibt keine Lager! Erzählen Sie doch keinen Unsinn!', 'Michael Grosse-Brömer [CDU/CSU]: Na, na, na! – Burkhard Lischka [SPD]: Nein! – Andrea Nahles [SPD]: Nein! Das ist völliger Blödsinn!', 'Burkhard Lischka [SPD]: Wer ist denn Stephan Mayer?', 'Burkhard Lischka [SPD]: Stimmt doch gar nicht!', 'Andrea Nahles [SPD]: Lesen Sie noch mal nach!', 'Burkhard Lischka [SPD]: Welche Lager denn, um Gottes willen? Wer erzählt denn so was?', 'Ulli Nissen [SPD]: „Regime“ ist ein toller Begriff!', 'Zuruf von der LINKEN: Buh! – Andrea Nahles [SPD]: Das wollen wir nicht! Jetzt reicht’s mir aber!', 'Andrea Lindholz [CDU/CSU]: Das ist doch peinlich! – Sören Bartol [SPD]: Ah! – Weitere Zurufe von der SPD und dem BÜNDNIS 90/ DIE GRÜNEN', 'Beifall bei der AfD – Dr . Alexander Gauland [AfD]: Genau, das ist nämlich der Punkt! Das sind keine Demokraten! – Burkhard Lischka [SPD]: Jetzt nehmen Sie das mal mit Bedau- ern zurück! – Sören Bartol [SPD]: Ihr habt ein Deckblatt geschrieben, wo ihr das Geld streicht!', 'Sören Bartol [SPD]: Ihr habt ja jetzt auch eine politische Stiftung!', 'Sören Bartol [SPD]: Ist ja auch ein CSU-Pa- pier!', 'Beifall bei der LINKEN sowie bei Abgeord- neten des BÜNDNISSES 90/DIE GRÜNEN – Dagmar Freitag [SPD]: Was Sie sagen, ist kein Ruhmesblatt!', 'Sören Bartol [SPD]: Was?', 'Sören Bartol [SPD]: Für alle!', 'Michael Grosse-Brömer [CDU/CSU]: Der Migrationstextbaustein! – Ulli Nissen [SPD]: Was reden Sie da für einen Unfug! – Christian Kühn [Tübingen] [BÜNDNIS 90/DIE GRÜ- NEN]: Woher kommt die Zahl?', 'Beifall bei der FDP – Burkhard Lischka [SPD]: Aber Spaß macht es schon!', 'Sören Bartol [SPD]: Nein! Die müssen selbst bebaut werden!', 'Volker Kauder [CDU/CSU]: Dann machen Sie es doch in NRW! – Sören Bartol [SPD]: Ihr könnt es doch in NRW machen! Da hat Herr Kauder recht!', 'Sören Bartol [SPD]: Macht doch erst mal da, wo ihr könnt! Typisch FDP! Ihr regiert doch!', 'Beifall bei der CDU/CSU sowie bei Abge- ordneten der SPD – Ulli Nissen [SPD]: Genau das wollen wir! – Burkhard Lischka [SPD]: Der Satz war sehr gut!', 'Ulli Nissen [SPD]: Super Gesetz!', 'Dr . Johannes Fechner [SPD]: So ein Schwachsinn!', 'Dr . Eva Högl [SPD]: Fällt schwer bei Ihrer Rede!', 'Ulli Nissen [SPD]: Was hat das mit dem Haushalt zu tun?', 'Dr . Eva Högl [SPD]: Das ist üble Hetze! Das hat nichts mit dem Haushalt zu tun! – Marianne Schieder [SPD]: Das ist üble Hetze und sonst nichts, was Sie hier tun!', 'Lachen bei Abgeordneten der SPD, der LIN- KEN und des BÜNDNISSES 90/DIE GRÜ- NEN – Dr . Eva Högl [SPD]: Ja was denn jetzt?', 'Ulli Nissen [SPD]: Werbeblock!', 'Ulli Nissen [SPD]: Aber man sollte?', 'Dr . Jan-Marco Luczak [CDU/CSU]: Ist uns gar nicht aufgefallen! – Ulli Nissen [SPD]: Oh, super!', 'Marianne Schieder [SPD]: Sie ist es auch!', 'Marianne Schieder [SPD]: Da sind doch die Länder zuständig!', 'Marianne Schieder [SPD]: Das stimmt doch gar nicht!', 'Beifall beim BÜNDNIS 90/DIE GRÜNEN – Marianne Schieder [SPD]: Diese Reden muss man in den Landtagen halten, nicht im Bun- destag!', 'Marianne Schieder [SPD]: Nichts als Hetze, Hetze und Hetze!', 'Ulli Nissen [SPD]: Gold war was anderes bei der AfD!', 'Esther Dilcher [SPD]: Sie doch jetzt auch! – Weiterer Zuruf von der SPD: Scheinheilig!', 'Esther Dilcher [SPD]: Sie hätten die Rede noch mal überarbeiten müssen nach dem Par- teitag! – Weitere Zurufe von der SPD – Zuruf der Abg . Canan Bayram [BÜNDNIS 90/DIE GRÜNEN]', 'Beifall bei der LINKEN – Marianne Schieder [SPD]: Oje, oje! So viel Unsinn!', 'Beifall beim BÜNDNIS 90/DIE GRÜNEN – Marianne Schieder [SPD]: Das ist doch nicht wahr, dass da nichts gesagt worden ist!', 'Beifall der Abg . Ulla Jelpke [DIE LINKE] – Marianne Schieder [SPD]: Das ist doch kein Beispiel, das Sie haben wollen! Das ist doch das Letzte!', 'Dr . Eva Högl [SPD]: Das haben wir gar nicht gemerkt, Herr Wellenreuther!', 'Marianne Schieder [SPD]: Um Ungarn müsst ihr euch kümmern als CSU! – Dr . Eva Högl [SPD]: Nicht so viel Viktor Orban einladen!', 'Kerstin Tack [SPD]: Also bitte!', 'Beifall bei der SPD – Gabriele Hiller-Ohm [SPD]: Auch für Männer!', 'Kerstin Tack [SPD]: Mein Gott!', 'Kerstin Tack [SPD]: Oh Gott!', 'Kai Whittaker [CDU/CSU]: Noch mehr? – Lachen bei der SPD – Kerstin Tack [SPD]: „Wir haben 20 zur Auswahl“! – Weitere Zu- rufe von der SPD und dem BÜNDNIS 90/DIE GRÜNEN', 'Kerstin Tack [SPD]: Sie müssen es politisch bewerten und nicht mathematisch! Das ist furchtbar!', 'Kerstin Tack [SPD]: Toll!', 'Beifall bei der FDP – Kerstin Tack [SPD]: Freuen Sie sich gar nicht?', 'Beifall bei der FDP – Kerstin Tack [SPD]: Wem wollen Sie jetzt Geld wegnehmen?', 'Kerstin Tack [SPD]: Welches Geld meinen Sie denn? – Beate Müller-Gemmeke [BÜND- NIS 90/DIE GRÜNEN]: Was heißt das denn?', 'Beifall beim BÜNDNIS 90/DIE GRÜNEN sowie bei Abgeordneten der LINKEN – Kerstin Tack [SPD]: Ganz doll an der Sache vorbei!', 'Kerstin Tack [SPD]: Genau!', 'Kerstin Tack [SPD]: Das eine schließt das andere ja nicht aus!', 'Beifall bei der AfD – Katrin Budde [SPD]: Das ist der Unterschied zwischen Bundes- haushalt und Kommunalhaushalt!', 'Katrin Budde [SPD]: Das ist Gemeinschafts- aufgabe! Das sagt das Wort schon!', 'Katrin Budde [SPD]: Wald ist wichtig!', 'Lachen bei Abgeordneten der SPD – Ulli Nissen [SPD]: Jetzt musste ja wieder was kommen! – Renate Künast [BÜNDNIS 90/ DIE GRÜNEN]: Wer hat denn gerade belehrt? Wir sind doch federführend verantwortlich! – Dr . Kirsten Tackmann [DIE LINKE]: Nur die deutsche Eiche, oder wie?', 'Beifall des Abg . Dr . Tobias Lindner [BÜND- NIS 90/DIE GRÜNEN] – Ulli Nissen [SPD]: Die Zeit der AfD ist abgelaufen!', 'Rainer Spiering [SPD]: Ach!', 'Rainer Spiering [SPD]: Neoniks!', 'Dagmar Ziegler [SPD]: Ungeheuerlich!', 'Albert Stegemann [CDU/CSU]: Sind Sie beim richtigen Einzelplan? – Ulli Nissen [SPD]: Sie haben nicht zugehört!', 'Ulli Nissen [SPD]: Und was ist mit den Flüchtlingskindern?', 'Ulli Nissen [SPD]: „Unsere Kinder“!', 'Dr . Daniela De Ridder [SPD]: Um Gottes willen!', 'Gitta Connemann [CDU/CSU]: Das ist ja un- verschämt! – Rainer Spiering [SPD]: Me too!', 'Rainer Spiering [SPD]: Das war Sexismus! – Weitere Zurufe von der SPD und der LIN- KEN', 'Heiterkeit – Rainer Spiering [SPD]: Der war gut!', 'Ulrich Freese [SPD]: Doch!', 'Beifall bei der CDU/CSU – Dr . Matthias Miersch [SPD]: Da sind noch ein paar Frage- zeichen zu klären! – Gegenruf des Abg . Albert Stegemann [CDU/CSU]: Das war eine Dro- hung!', 'Beifall bei der AfD – Oliver Kaczmarek [SPD]: Sie wollten die Klimaforschung ab- schaffen!', 'Martin Schulz [SPD]: Dann muss aber ein anderer Redner anfangen! – Beifall bei Abge- ordneten der SPD', 'Johannes Kahrs [SPD]: Genau!', 'Johannes Kahrs [SPD]: Lesen Sie mal Ihren Antrag!', 'Beifall bei der AfD – Martin Schulz [SPD]: Ausgerechnet Sie! – Dr . Marco Buschmann [FDP]: Sie nutzen den Bundeshaushalt für Protest?', 'Johannes Kahrs [SPD]: Sie wissen doch gar nicht, wovon Sie reden!', 'Martin Schulz [SPD]: Was ist das für ein Schwachsinn! – Weiterer Zuruf der Abg . Ulli Nissen [SPD]', 'Johannes Kahrs [SPD]: Das ist doch Unfug!', 'Johannes Kahrs [SPD]: Die Entlastung ist doch nachzulesen! Lesen bildet, Denken hilft!', 'Zuruf von der LINKEN: Na und? – Johannes Kahrs [SPD]: Sie wollen doch die Renten kür- zen!', 'Johannes Kahrs [SPD]: Das erzählen Sie schon seit 20 Jahren, und da kommt nichts bei herum!', 'Beifall bei der FDP sowie bei Abgeordne- ten der SPD und des BÜNDNISSES 90/DIE GRÜNEN – Johannes Kahrs [SPD]: Ein Blick in den Koalitionsvertrag hilft!', 'Johannes Kahrs [SPD]: Einfach abregen, junger Mann!', 'Beifall bei der FDP – Johannes Kahrs [SPD]: Papperlapapp! – Weiterer Zuruf der Abg . Ulli Nissen [SPD]', 'Johannes Kahrs [SPD]: Haben Sie es viel- leicht gelesen?', 'Swen Schulz [Spandau] [SPD]: Das ist doch gar nicht wahr! – Dennis Rohde [SPD]: Stimmt doch gar nicht!', 'Johannes Kahrs [SPD]: Wenn man schon kei- ne Ahnung hat, sollte man das nicht auch noch zeigen!', 'Beifall bei der FDP sowie bei Abgeordne- ten der SPD – Lachen bei Abgeordneten der AfD – Johannes Kahrs [SPD]: Wenn Sie so schlecht sind wie die ersten zwei, dann lassen Sie es lieber!', 'Johannes Kahrs [SPD]: Dann müssen Sie mal sachliche Kritik liefern!', 'Johannes Kahrs [SPD]: Und eine neue Kul- tur des Scheiterns! Das macht die FDP gerade vor!', 'Johannes Kahrs [SPD]: Nein, zum Ende!', 'Heiterkeit und Beifall bei der FDP – Andrea Nahles [SPD]: Das Zitat ging weiter!', 'Beifall bei der CDU/CSU sowie bei Abge- ordneten der SPD – Johannes Kahrs [SPD]: So, das wird jetzt wohl besser!', 'Beifall – Johannes Kahrs [SPD]: Wo ist die Runde?', 'Johannes Kahrs [SPD]: Sei froh, dass du uns als Koalitionspartner hast! Dann klappt das auch!', 'Dr . Alexander Gauland [AfD]: Ist ja schon peinlich! – Andrea Nahles [SPD]: Reden Sie zum Haushalt!', 'Beifall beim BÜNDNIS 90/DIE GRÜNEN – Johannes Kahrs [SPD]: Deswegen die grauen Haare!', 'Johannes Kahrs [SPD]: Ihr seid doch gar nicht vorgekommen!', 'Johannes Kahrs [SPD]: Ihr wollt ausgeben! Ausgeben könnt ihr nichts!', 'Johannes Kahrs [SPD]: Keine schwierigen Vergleiche!', 'Carsten Schneider [Erfurt] [SPD]: So einen Blödsinn habe ich selten gehört!', 'Beifall bei der CDU/CSU sowie bei Abge- ordneten der SPD – Johannes Kahrs [SPD]: Na, Ecki, jetzt aber ran! Das war ja wohl eine Vorlage!', 'Johannes Kahrs [SPD]: Auch Bayern!', 'Beifall bei der CDU/CSU sowie bei Abge- ordneten der SPD – Johannes Kahrs [SPD]: Sehr gut!', 'Ulla Schmidt [Aachen] [SPD]: Bei der FDP stehen auch noch ein paar!', 'Ulli Nissen [SPD]: Das stimmt! – Steffi Lemke [BÜNDNIS 90/DIE GRÜNEN]: Vor allem die CSU!']\n"
     ]
    }
   ],
   "source": [
    "parties = ['LINKE', 'BÜNDNIS 90', 'CDU/CSU', 'SPD', 'FDP', 'AfD', 'fraktionslos']\n",
    "einwürfe = []\n",
    "beifall = []\n",
    "lachen =[]\n",
    "heiterkeit = []\n",
    "newlist = []\n",
    "zuruf = []\n",
    "\n",
    "thematische_zwischenrufe_spd = []\n",
    "thematische_zwischenrufe_cdu = []\n",
    "thematische_zwischenrufe_afd = []\n",
    "thematische_zwischenrufe_fdp = []\n",
    "thematische_zwischenrufe_linke = []\n",
    "thematische_zwischenrufe_gruene = []\n",
    "thematische_zwischenrufe_fraktionslos = []\n",
    "\n",
    "#Find all strings between () brackets and allow for matching over multiple lines\n",
    "\n",
    "test = re.findall( '\\((\\n*?|[^)]*)\\)', meeting_content)\n",
    "\n",
    "#Convert matches to single line strings and discard elements with fewer than 9 string characters\n",
    "\n",
    "for element in test:\n",
    "    element = \" \".join(line.strip() for line in element.splitlines())\n",
    "    if len(element) > 9:\n",
    "        newlist.append(element)\n",
    "\n",
    "#Find strings that contain information about parties, all remarks should contain a string indicating party\n",
    "\n",
    "for element in newlist:\n",
    "    if any(party in element for party in parties):\n",
    "        einwürfe.append(element)\n",
    "\n",
    "#Sort renarks into categories. We allow for thematic remarks of specific people and for reactions of entire groups\n",
    "\n",
    "for element in einwürfe:\n",
    "    if \"Beifall\" in element:\n",
    "        beifall.append(element)\n",
    "        #einwürfe.remove(element)\n",
    "    if \"Lachen\" in element:\n",
    "        lachen.append(element)\n",
    "        #einwürfe.remove(element)\n",
    "    if \"Heiterkeit\" in element:\n",
    "        heiterkeit.append(element)\n",
    "        #einwürfe.remove(element)\n",
    "    if \"Zuruf\" in element:\n",
    "        zuruf.append(element)\n",
    "        #einwürfe.remove(element)\n",
    "    if \"[SPD]:\" in element:\n",
    "        thematische_zwischenrufe_spd.append(element)\n",
    "        #einwürfe.remove(element)\n",
    "    if \"[CDU/CSU]:\" in element:\n",
    "        thematische_zwischenrufe_cdu.append(element)\n",
    "        #einwürfe.remove(element)\n",
    "    if \"[AfD]:\" in element:\n",
    "        thematische_zwischenrufe_afd.append(element)\n",
    "        #einwürfe.remove(element)\n",
    "    if \"[FDP]:\" in element:\n",
    "        thematische_zwischenrufe_fdp.append(element)\n",
    "        #einwürfe.remove(element)\n",
    "    if \"[BÜNDNIS 90/DIE GRÜNEN]:\" in element:\n",
    "        thematische_zwischenrufe_gruene.append(element)\n",
    "        #einwürfe.remove(element)\n",
    "    if \"[DIELINKE]:\" in element:\n",
    "        thematische_zwischenrufe_linke.append(element)\n",
    "        #einwürfe.remove(element)\n",
    "    if \"[FRAKTIONSLOS]:\" in element:\n",
    "        thematische_zwischenrufe_fraktionslos.append(element)\n",
    "        #einwürfe.remove(element)\n",
    "\n",
    "#print(beifall)\n",
    "#print(lachen)\n",
    "#print(heiterkeit)\n",
    "#print(zuruf)\n",
    "\n",
    "print(thematische_zwischenrufe_spd)\n",
    "\n",
    "\n",
    "\n",
    "\n",
    "\n",
    "\n"
   ]
  }
 ],
 "metadata": {
  "kernelspec": {
   "display_name": "Python 3.10.4 64-bit",
   "language": "python",
   "name": "python3"
  },
  "language_info": {
   "codemirror_mode": {
    "name": "ipython",
    "version": 3
   },
   "file_extension": ".py",
   "mimetype": "text/x-python",
   "name": "python",
   "nbconvert_exporter": "python",
   "pygments_lexer": "ipython3",
   "version": "3.10.4"
  },
  "orig_nbformat": 4,
  "vscode": {
   "interpreter": {
    "hash": "e2acad2d318e78a00a44646627195d999ce444529836353b37cf256bc45b04b9"
   }
  }
 },
 "nbformat": 4,
 "nbformat_minor": 2
}
